{
 "cells": [
  {
   "cell_type": "markdown",
   "id": "1d24b691",
   "metadata": {},
   "source": [
    "### Imports"
   ]
  },
  {
   "cell_type": "code",
   "execution_count": 1,
   "id": "d699a4b1",
   "metadata": {},
   "outputs": [],
   "source": [
    "import pandas as pd\n",
    "import numpy as np\n",
    "import matplotlib.pyplot as plt\n",
    "%matplotlib inline\n",
    "\n",
    "from sklearn.preprocessing import StandardScaler\n",
    "\n",
    "# Для работы с матрицами\n",
    "from scipy.sparse import csr_matrix\n",
    "\n",
    "# Матричная факторизация\n",
    "from implicit import als\n",
    "\n",
    "# Модель второго уровня\n",
    "from lightgbm import LGBMClassifier\n",
    "\n",
    "from src.metrics import precision_at_k, recall_at_k\n",
    "from src.utils import prefilter_items\n",
    "from src.recommenders import MainRecommender\n",
    "\n",
    "import warnings\n",
    "warnings.simplefilter(\"ignore\")\n",
    "\n",
    "pd.set_option(\"display.max_columns\", 999)\n",
    "pd.options.display.float_format = '{:,.2f}'.format"
   ]
  },
  {
   "cell_type": "markdown",
   "id": "8986d8e1",
   "metadata": {},
   "source": [
    "___"
   ]
  },
  {
   "cell_type": "markdown",
   "id": "3060691f",
   "metadata": {},
   "source": [
    "### Constants"
   ]
  },
  {
   "cell_type": "code",
   "execution_count": 2,
   "id": "abee6eb8",
   "metadata": {},
   "outputs": [],
   "source": [
    "TRAIN = './data/retail_train.csv'\n",
    "TEST = './data/retail_test1.csv'\n",
    "TRANSACTION = './data/transaction_data.csv'\n",
    "PRODUCT = './data/product.csv'\n",
    "USER = './data/hh_demographic.csv'\n",
    "\n",
    "ITEM_COL = 'item_id'\n",
    "USER_COL = 'user_id'\n",
    "ACTUAL_COL = 'actual'\n",
    "\n",
    "N_PREDICT = 500 \n",
    "TOP_K_RECALL = 50\n",
    "TOP_K_PRECISION = 5"
   ]
  },
  {
   "cell_type": "markdown",
   "id": "681df64f",
   "metadata": {},
   "source": [
    "___"
   ]
  },
  {
   "cell_type": "markdown",
   "id": "3c75ee21",
   "metadata": {},
   "source": [
    "### Functions"
   ]
  },
  {
   "cell_type": "code",
   "execution_count": 3,
   "id": "8a558124",
   "metadata": {},
   "outputs": [],
   "source": [
    "def print_stats_data(df_data, name_df):\n",
    "    print(name_df)\n",
    "    print(60 * '=')\n",
    "    print(f\"Shape: {df_data.shape}\\tUsers: {df_data[USER_COL].nunique()}\\t\"\n",
    "          f\"Items: {df_data[ITEM_COL].nunique()}\\n\")"
   ]
  },
  {
   "cell_type": "code",
   "execution_count": 4,
   "id": "07e4f715",
   "metadata": {},
   "outputs": [],
   "source": [
    "def calc_precision(df_data, top_k):\n",
    "    for col_name in df_data.columns[2:]:\n",
    "        yield col_name, \\\n",
    "        df_data.apply(lambda row: precision_at_k(row[col_name], \n",
    "                                                 row[ACTUAL_COL], \n",
    "                                                 k=top_k), axis=1).mean()"
   ]
  },
  {
   "cell_type": "code",
   "execution_count": 5,
   "id": "41404c5d",
   "metadata": {},
   "outputs": [],
   "source": [
    "def calc_recall(df_data, top_k):\n",
    "    for col_name in df_data.columns[2:]:\n",
    "        yield col_name, \\\n",
    "        df_data.apply(lambda row: recall_at_k(row[col_name], \n",
    "                                              row[ACTUAL_COL], \n",
    "                                              k=top_k), axis=1).mean()"
   ]
  },
  {
   "cell_type": "code",
   "execution_count": 6,
   "id": "9274e3ab",
   "metadata": {},
   "outputs": [],
   "source": [
    "# функция переранжирования в зависимости от предсказанного скора\n",
    "def rerank(user_id):\n",
    "    return df_ranker_predict[df_ranker_predict[USER_COL]==user_id].sort_values('proba_item_purchase', \n",
    "                                                                               ascending=False).head(5)['item_id'].tolist()"
   ]
  },
  {
   "cell_type": "code",
   "execution_count": 7,
   "id": "575f977f",
   "metadata": {},
   "outputs": [],
   "source": [
    "def day_time(trans_time):\n",
    "    \"\"\"\n",
    "     с 0 до 6 часов — ночь \n",
    "     с 6 до 12 часов — утро \n",
    "     с 12 до 18 часов — день \n",
    "     с 18 до 24 часов — вечер\n",
    "    \"\"\"\n",
    "    if 0 <= trans_time < 600:\n",
    "        return 'night'\n",
    "    elif 600 <= trans_time < 1200:\n",
    "        return 'morning'\n",
    "    elif 1200 <= trans_time < 1800:\n",
    "        return 'day'\n",
    "    elif 1800 <= trans_time <= 2359:\n",
    "        return 'evening'\n",
    "    else:\n",
    "        return None"
   ]
  },
  {
   "cell_type": "markdown",
   "id": "26332783",
   "metadata": {},
   "source": [
    "___"
   ]
  },
  {
   "cell_type": "markdown",
   "id": "97d181e5",
   "metadata": {},
   "source": [
    "### Preprocessing"
   ]
  },
  {
   "cell_type": "code",
   "execution_count": 8,
   "id": "672b9cba",
   "metadata": {},
   "outputs": [],
   "source": [
    "df_train = pd.read_csv(TRAIN)\n",
    "df_test = pd.read_csv(TEST)\n",
    "df_trans = pd.read_csv(TRANSACTION)\n",
    "df_prod = pd.read_csv(PRODUCT)\n",
    "df_user = pd.read_csv(USER)"
   ]
  },
  {
   "cell_type": "code",
   "execution_count": 9,
   "id": "4a00ee61",
   "metadata": {},
   "outputs": [
    {
     "data": {
      "text/html": [
       "<div>\n",
       "<style scoped>\n",
       "    .dataframe tbody tr th:only-of-type {\n",
       "        vertical-align: middle;\n",
       "    }\n",
       "\n",
       "    .dataframe tbody tr th {\n",
       "        vertical-align: top;\n",
       "    }\n",
       "\n",
       "    .dataframe thead th {\n",
       "        text-align: right;\n",
       "    }\n",
       "</style>\n",
       "<table border=\"1\" class=\"dataframe\">\n",
       "  <thead>\n",
       "    <tr style=\"text-align: right;\">\n",
       "      <th></th>\n",
       "      <th>user_id</th>\n",
       "      <th>basket_id</th>\n",
       "      <th>day</th>\n",
       "      <th>item_id</th>\n",
       "      <th>quantity</th>\n",
       "      <th>sales_value</th>\n",
       "      <th>store_id</th>\n",
       "      <th>retail_disc</th>\n",
       "      <th>trans_time</th>\n",
       "      <th>week_no</th>\n",
       "      <th>coupon_disc</th>\n",
       "      <th>coupon_match_disc</th>\n",
       "    </tr>\n",
       "  </thead>\n",
       "  <tbody>\n",
       "    <tr>\n",
       "      <th>0</th>\n",
       "      <td>2375</td>\n",
       "      <td>26984851472</td>\n",
       "      <td>1</td>\n",
       "      <td>1004906</td>\n",
       "      <td>1</td>\n",
       "      <td>1.39</td>\n",
       "      <td>364</td>\n",
       "      <td>-0.60</td>\n",
       "      <td>1631</td>\n",
       "      <td>1</td>\n",
       "      <td>0.00</td>\n",
       "      <td>0.00</td>\n",
       "    </tr>\n",
       "    <tr>\n",
       "      <th>1</th>\n",
       "      <td>2375</td>\n",
       "      <td>26984851472</td>\n",
       "      <td>1</td>\n",
       "      <td>1033142</td>\n",
       "      <td>1</td>\n",
       "      <td>0.82</td>\n",
       "      <td>364</td>\n",
       "      <td>0.00</td>\n",
       "      <td>1631</td>\n",
       "      <td>1</td>\n",
       "      <td>0.00</td>\n",
       "      <td>0.00</td>\n",
       "    </tr>\n",
       "  </tbody>\n",
       "</table>\n",
       "</div>"
      ],
      "text/plain": [
       "   user_id    basket_id  day  item_id  quantity  sales_value  store_id  \\\n",
       "0     2375  26984851472    1  1004906         1         1.39       364   \n",
       "1     2375  26984851472    1  1033142         1         0.82       364   \n",
       "\n",
       "   retail_disc  trans_time  week_no  coupon_disc  coupon_match_disc  \n",
       "0        -0.60        1631        1         0.00               0.00  \n",
       "1         0.00        1631        1         0.00               0.00  "
      ]
     },
     "execution_count": 9,
     "metadata": {},
     "output_type": "execute_result"
    }
   ],
   "source": [
    "df_train.head(2)"
   ]
  },
  {
   "cell_type": "code",
   "execution_count": 10,
   "id": "8bc07b46",
   "metadata": {},
   "outputs": [
    {
     "data": {
      "text/html": [
       "<div>\n",
       "<style scoped>\n",
       "    .dataframe tbody tr th:only-of-type {\n",
       "        vertical-align: middle;\n",
       "    }\n",
       "\n",
       "    .dataframe tbody tr th {\n",
       "        vertical-align: top;\n",
       "    }\n",
       "\n",
       "    .dataframe thead th {\n",
       "        text-align: right;\n",
       "    }\n",
       "</style>\n",
       "<table border=\"1\" class=\"dataframe\">\n",
       "  <thead>\n",
       "    <tr style=\"text-align: right;\">\n",
       "      <th></th>\n",
       "      <th>user_id</th>\n",
       "      <th>basket_id</th>\n",
       "      <th>day</th>\n",
       "      <th>item_id</th>\n",
       "      <th>quantity</th>\n",
       "      <th>sales_value</th>\n",
       "      <th>store_id</th>\n",
       "      <th>retail_disc</th>\n",
       "      <th>trans_time</th>\n",
       "      <th>week_no</th>\n",
       "      <th>coupon_disc</th>\n",
       "      <th>coupon_match_disc</th>\n",
       "    </tr>\n",
       "  </thead>\n",
       "  <tbody>\n",
       "    <tr>\n",
       "      <th>0</th>\n",
       "      <td>1340</td>\n",
       "      <td>41652823310</td>\n",
       "      <td>664</td>\n",
       "      <td>912987</td>\n",
       "      <td>1</td>\n",
       "      <td>8.49</td>\n",
       "      <td>446</td>\n",
       "      <td>0.00</td>\n",
       "      <td>52</td>\n",
       "      <td>96</td>\n",
       "      <td>0.00</td>\n",
       "      <td>0.00</td>\n",
       "    </tr>\n",
       "    <tr>\n",
       "      <th>1</th>\n",
       "      <td>588</td>\n",
       "      <td>41652838477</td>\n",
       "      <td>664</td>\n",
       "      <td>1024426</td>\n",
       "      <td>1</td>\n",
       "      <td>6.29</td>\n",
       "      <td>388</td>\n",
       "      <td>0.00</td>\n",
       "      <td>8</td>\n",
       "      <td>96</td>\n",
       "      <td>0.00</td>\n",
       "      <td>0.00</td>\n",
       "    </tr>\n",
       "  </tbody>\n",
       "</table>\n",
       "</div>"
      ],
      "text/plain": [
       "   user_id    basket_id  day  item_id  quantity  sales_value  store_id  \\\n",
       "0     1340  41652823310  664   912987         1         8.49       446   \n",
       "1      588  41652838477  664  1024426         1         6.29       388   \n",
       "\n",
       "   retail_disc  trans_time  week_no  coupon_disc  coupon_match_disc  \n",
       "0         0.00          52       96         0.00               0.00  \n",
       "1         0.00           8       96         0.00               0.00  "
      ]
     },
     "execution_count": 10,
     "metadata": {},
     "output_type": "execute_result"
    }
   ],
   "source": [
    "df_test.head(2)"
   ]
  },
  {
   "cell_type": "code",
   "execution_count": 11,
   "id": "3a065edd",
   "metadata": {},
   "outputs": [
    {
     "data": {
      "text/html": [
       "<div>\n",
       "<style scoped>\n",
       "    .dataframe tbody tr th:only-of-type {\n",
       "        vertical-align: middle;\n",
       "    }\n",
       "\n",
       "    .dataframe tbody tr th {\n",
       "        vertical-align: top;\n",
       "    }\n",
       "\n",
       "    .dataframe thead th {\n",
       "        text-align: right;\n",
       "    }\n",
       "</style>\n",
       "<table border=\"1\" class=\"dataframe\">\n",
       "  <thead>\n",
       "    <tr style=\"text-align: right;\">\n",
       "      <th></th>\n",
       "      <th>AGE_DESC</th>\n",
       "      <th>MARITAL_STATUS_CODE</th>\n",
       "      <th>INCOME_DESC</th>\n",
       "      <th>HOMEOWNER_DESC</th>\n",
       "      <th>HH_COMP_DESC</th>\n",
       "      <th>HOUSEHOLD_SIZE_DESC</th>\n",
       "      <th>KID_CATEGORY_DESC</th>\n",
       "      <th>household_key</th>\n",
       "    </tr>\n",
       "  </thead>\n",
       "  <tbody>\n",
       "    <tr>\n",
       "      <th>0</th>\n",
       "      <td>65+</td>\n",
       "      <td>A</td>\n",
       "      <td>35-49K</td>\n",
       "      <td>Homeowner</td>\n",
       "      <td>2 Adults No Kids</td>\n",
       "      <td>2</td>\n",
       "      <td>None/Unknown</td>\n",
       "      <td>1</td>\n",
       "    </tr>\n",
       "    <tr>\n",
       "      <th>1</th>\n",
       "      <td>45-54</td>\n",
       "      <td>A</td>\n",
       "      <td>50-74K</td>\n",
       "      <td>Homeowner</td>\n",
       "      <td>2 Adults No Kids</td>\n",
       "      <td>2</td>\n",
       "      <td>None/Unknown</td>\n",
       "      <td>7</td>\n",
       "    </tr>\n",
       "  </tbody>\n",
       "</table>\n",
       "</div>"
      ],
      "text/plain": [
       "  AGE_DESC MARITAL_STATUS_CODE INCOME_DESC HOMEOWNER_DESC      HH_COMP_DESC  \\\n",
       "0      65+                   A      35-49K      Homeowner  2 Adults No Kids   \n",
       "1    45-54                   A      50-74K      Homeowner  2 Adults No Kids   \n",
       "\n",
       "  HOUSEHOLD_SIZE_DESC KID_CATEGORY_DESC  household_key  \n",
       "0                   2      None/Unknown              1  \n",
       "1                   2      None/Unknown              7  "
      ]
     },
     "execution_count": 11,
     "metadata": {},
     "output_type": "execute_result"
    }
   ],
   "source": [
    "df_user.head(2)"
   ]
  },
  {
   "cell_type": "code",
   "execution_count": 12,
   "id": "b0ee3b5b",
   "metadata": {},
   "outputs": [
    {
     "data": {
      "text/html": [
       "<div>\n",
       "<style scoped>\n",
       "    .dataframe tbody tr th:only-of-type {\n",
       "        vertical-align: middle;\n",
       "    }\n",
       "\n",
       "    .dataframe tbody tr th {\n",
       "        vertical-align: top;\n",
       "    }\n",
       "\n",
       "    .dataframe thead th {\n",
       "        text-align: right;\n",
       "    }\n",
       "</style>\n",
       "<table border=\"1\" class=\"dataframe\">\n",
       "  <thead>\n",
       "    <tr style=\"text-align: right;\">\n",
       "      <th></th>\n",
       "      <th>PRODUCT_ID</th>\n",
       "      <th>MANUFACTURER</th>\n",
       "      <th>DEPARTMENT</th>\n",
       "      <th>BRAND</th>\n",
       "      <th>COMMODITY_DESC</th>\n",
       "      <th>SUB_COMMODITY_DESC</th>\n",
       "      <th>CURR_SIZE_OF_PRODUCT</th>\n",
       "    </tr>\n",
       "  </thead>\n",
       "  <tbody>\n",
       "    <tr>\n",
       "      <th>0</th>\n",
       "      <td>25671</td>\n",
       "      <td>2</td>\n",
       "      <td>GROCERY</td>\n",
       "      <td>National</td>\n",
       "      <td>FRZN ICE</td>\n",
       "      <td>ICE - CRUSHED/CUBED</td>\n",
       "      <td>22 LB</td>\n",
       "    </tr>\n",
       "    <tr>\n",
       "      <th>1</th>\n",
       "      <td>26081</td>\n",
       "      <td>2</td>\n",
       "      <td>MISC. TRANS.</td>\n",
       "      <td>National</td>\n",
       "      <td>NO COMMODITY DESCRIPTION</td>\n",
       "      <td>NO SUBCOMMODITY DESCRIPTION</td>\n",
       "      <td></td>\n",
       "    </tr>\n",
       "  </tbody>\n",
       "</table>\n",
       "</div>"
      ],
      "text/plain": [
       "   PRODUCT_ID  MANUFACTURER    DEPARTMENT     BRAND            COMMODITY_DESC  \\\n",
       "0       25671             2       GROCERY  National                  FRZN ICE   \n",
       "1       26081             2  MISC. TRANS.  National  NO COMMODITY DESCRIPTION   \n",
       "\n",
       "            SUB_COMMODITY_DESC CURR_SIZE_OF_PRODUCT  \n",
       "0          ICE - CRUSHED/CUBED                22 LB  \n",
       "1  NO SUBCOMMODITY DESCRIPTION                       "
      ]
     },
     "execution_count": 12,
     "metadata": {},
     "output_type": "execute_result"
    }
   ],
   "source": [
    "df_prod.head(2)"
   ]
  },
  {
   "cell_type": "code",
   "execution_count": 13,
   "id": "d809e692",
   "metadata": {},
   "outputs": [],
   "source": [
    "# Переведем названия столбцов в малые буквы\n",
    "df_trans.columns = list(map(str.lower, df_test.columns))\n",
    "df_prod.columns = list(map(str.lower, df_prod.columns))\n",
    "df_user.columns = list(map(str.lower, df_user.columns))\n",
    "\n",
    "# переименуем столбцы\n",
    "df_prod.rename(columns={'product_id': ITEM_COL}, inplace=True)\n",
    "df_trans.rename(columns={'household_key': USER_COL }, inplace=True)\n",
    "df_user.rename(columns={'household_key': USER_COL }, inplace=True)"
   ]
  },
  {
   "cell_type": "markdown",
   "id": "b99525c5",
   "metadata": {},
   "source": [
    "**Найдем \"холодных\" юзеров в тесте**"
   ]
  },
  {
   "cell_type": "code",
   "execution_count": 14,
   "id": "193cbd5d",
   "metadata": {},
   "outputs": [
    {
     "data": {
      "text/plain": [
       "1"
      ]
     },
     "execution_count": 14,
     "metadata": {},
     "output_type": "execute_result"
    }
   ],
   "source": [
    "df_test[~df_test[USER_COL].isin(df_train[USER_COL])][USER_COL].nunique()"
   ]
  },
  {
   "cell_type": "code",
   "execution_count": 15,
   "id": "e67fadd0",
   "metadata": {},
   "outputs": [
    {
     "data": {
      "text/html": [
       "<div>\n",
       "<style scoped>\n",
       "    .dataframe tbody tr th:only-of-type {\n",
       "        vertical-align: middle;\n",
       "    }\n",
       "\n",
       "    .dataframe tbody tr th {\n",
       "        vertical-align: top;\n",
       "    }\n",
       "\n",
       "    .dataframe thead th {\n",
       "        text-align: right;\n",
       "    }\n",
       "</style>\n",
       "<table border=\"1\" class=\"dataframe\">\n",
       "  <thead>\n",
       "    <tr style=\"text-align: right;\">\n",
       "      <th></th>\n",
       "      <th>user_id</th>\n",
       "      <th>basket_id</th>\n",
       "      <th>day</th>\n",
       "      <th>item_id</th>\n",
       "      <th>quantity</th>\n",
       "      <th>sales_value</th>\n",
       "      <th>store_id</th>\n",
       "      <th>retail_disc</th>\n",
       "      <th>trans_time</th>\n",
       "      <th>week_no</th>\n",
       "      <th>coupon_disc</th>\n",
       "      <th>coupon_match_disc</th>\n",
       "    </tr>\n",
       "  </thead>\n",
       "  <tbody>\n",
       "    <tr>\n",
       "      <th>24436</th>\n",
       "      <td>2325</td>\n",
       "      <td>41756111316</td>\n",
       "      <td>671</td>\n",
       "      <td>849274</td>\n",
       "      <td>2</td>\n",
       "      <td>8.00</td>\n",
       "      <td>427</td>\n",
       "      <td>-2.38</td>\n",
       "      <td>1530</td>\n",
       "      <td>97</td>\n",
       "      <td>0.00</td>\n",
       "      <td>0.00</td>\n",
       "    </tr>\n",
       "    <tr>\n",
       "      <th>24437</th>\n",
       "      <td>2325</td>\n",
       "      <td>41756111316</td>\n",
       "      <td>671</td>\n",
       "      <td>863885</td>\n",
       "      <td>1</td>\n",
       "      <td>3.69</td>\n",
       "      <td>427</td>\n",
       "      <td>0.00</td>\n",
       "      <td>1530</td>\n",
       "      <td>97</td>\n",
       "      <td>0.00</td>\n",
       "      <td>0.00</td>\n",
       "    </tr>\n",
       "    <tr>\n",
       "      <th>24438</th>\n",
       "      <td>2325</td>\n",
       "      <td>41756111316</td>\n",
       "      <td>671</td>\n",
       "      <td>872137</td>\n",
       "      <td>1</td>\n",
       "      <td>3.65</td>\n",
       "      <td>427</td>\n",
       "      <td>0.00</td>\n",
       "      <td>1530</td>\n",
       "      <td>97</td>\n",
       "      <td>0.00</td>\n",
       "      <td>0.00</td>\n",
       "    </tr>\n",
       "    <tr>\n",
       "      <th>24439</th>\n",
       "      <td>2325</td>\n",
       "      <td>41756111316</td>\n",
       "      <td>671</td>\n",
       "      <td>877913</td>\n",
       "      <td>1</td>\n",
       "      <td>2.79</td>\n",
       "      <td>427</td>\n",
       "      <td>0.00</td>\n",
       "      <td>1530</td>\n",
       "      <td>97</td>\n",
       "      <td>0.00</td>\n",
       "      <td>0.00</td>\n",
       "    </tr>\n",
       "    <tr>\n",
       "      <th>24440</th>\n",
       "      <td>2325</td>\n",
       "      <td>41756111316</td>\n",
       "      <td>671</td>\n",
       "      <td>883932</td>\n",
       "      <td>2</td>\n",
       "      <td>4.38</td>\n",
       "      <td>427</td>\n",
       "      <td>0.00</td>\n",
       "      <td>1530</td>\n",
       "      <td>97</td>\n",
       "      <td>0.00</td>\n",
       "      <td>0.00</td>\n",
       "    </tr>\n",
       "    <tr>\n",
       "      <th>24441</th>\n",
       "      <td>2325</td>\n",
       "      <td>41756111316</td>\n",
       "      <td>671</td>\n",
       "      <td>965208</td>\n",
       "      <td>1</td>\n",
       "      <td>3.49</td>\n",
       "      <td>427</td>\n",
       "      <td>0.00</td>\n",
       "      <td>1530</td>\n",
       "      <td>97</td>\n",
       "      <td>0.00</td>\n",
       "      <td>0.00</td>\n",
       "    </tr>\n",
       "    <tr>\n",
       "      <th>24442</th>\n",
       "      <td>2325</td>\n",
       "      <td>41756111316</td>\n",
       "      <td>671</td>\n",
       "      <td>1106116</td>\n",
       "      <td>1</td>\n",
       "      <td>3.69</td>\n",
       "      <td>427</td>\n",
       "      <td>0.00</td>\n",
       "      <td>1530</td>\n",
       "      <td>97</td>\n",
       "      <td>0.00</td>\n",
       "      <td>0.00</td>\n",
       "    </tr>\n",
       "    <tr>\n",
       "      <th>24443</th>\n",
       "      <td>2325</td>\n",
       "      <td>41756111316</td>\n",
       "      <td>671</td>\n",
       "      <td>5979276</td>\n",
       "      <td>1</td>\n",
       "      <td>1.50</td>\n",
       "      <td>427</td>\n",
       "      <td>-0.49</td>\n",
       "      <td>1530</td>\n",
       "      <td>97</td>\n",
       "      <td>0.00</td>\n",
       "      <td>0.00</td>\n",
       "    </tr>\n",
       "    <tr>\n",
       "      <th>24444</th>\n",
       "      <td>2325</td>\n",
       "      <td>41756111316</td>\n",
       "      <td>671</td>\n",
       "      <td>16729299</td>\n",
       "      <td>2</td>\n",
       "      <td>6.38</td>\n",
       "      <td>427</td>\n",
       "      <td>-2.20</td>\n",
       "      <td>1530</td>\n",
       "      <td>97</td>\n",
       "      <td>0.00</td>\n",
       "      <td>0.00</td>\n",
       "    </tr>\n",
       "    <tr>\n",
       "      <th>52379</th>\n",
       "      <td>2325</td>\n",
       "      <td>41834501725</td>\n",
       "      <td>677</td>\n",
       "      <td>18055532</td>\n",
       "      <td>1</td>\n",
       "      <td>7.99</td>\n",
       "      <td>367</td>\n",
       "      <td>0.00</td>\n",
       "      <td>1145</td>\n",
       "      <td>97</td>\n",
       "      <td>0.00</td>\n",
       "      <td>0.00</td>\n",
       "    </tr>\n",
       "  </tbody>\n",
       "</table>\n",
       "</div>"
      ],
      "text/plain": [
       "       user_id    basket_id  day   item_id  quantity  sales_value  store_id  \\\n",
       "24436     2325  41756111316  671    849274         2         8.00       427   \n",
       "24437     2325  41756111316  671    863885         1         3.69       427   \n",
       "24438     2325  41756111316  671    872137         1         3.65       427   \n",
       "24439     2325  41756111316  671    877913         1         2.79       427   \n",
       "24440     2325  41756111316  671    883932         2         4.38       427   \n",
       "24441     2325  41756111316  671    965208         1         3.49       427   \n",
       "24442     2325  41756111316  671   1106116         1         3.69       427   \n",
       "24443     2325  41756111316  671   5979276         1         1.50       427   \n",
       "24444     2325  41756111316  671  16729299         2         6.38       427   \n",
       "52379     2325  41834501725  677  18055532         1         7.99       367   \n",
       "\n",
       "       retail_disc  trans_time  week_no  coupon_disc  coupon_match_disc  \n",
       "24436        -2.38        1530       97         0.00               0.00  \n",
       "24437         0.00        1530       97         0.00               0.00  \n",
       "24438         0.00        1530       97         0.00               0.00  \n",
       "24439         0.00        1530       97         0.00               0.00  \n",
       "24440         0.00        1530       97         0.00               0.00  \n",
       "24441         0.00        1530       97         0.00               0.00  \n",
       "24442         0.00        1530       97         0.00               0.00  \n",
       "24443        -0.49        1530       97         0.00               0.00  \n",
       "24444        -2.20        1530       97         0.00               0.00  \n",
       "52379         0.00        1145       97         0.00               0.00  "
      ]
     },
     "execution_count": 15,
     "metadata": {},
     "output_type": "execute_result"
    }
   ],
   "source": [
    "# один юзер с 10ю покупками\n",
    "df_test[~df_test[USER_COL].isin(df_train[USER_COL])]"
   ]
  },
  {
   "cell_type": "code",
   "execution_count": 16,
   "id": "9de87201",
   "metadata": {},
   "outputs": [],
   "source": [
    "# дропнем этого пользователя из теста\n",
    "df_test.drop(df_test[~df_test[USER_COL].isin(df_train[USER_COL])].index, inplace=True)"
   ]
  },
  {
   "cell_type": "code",
   "execution_count": 17,
   "id": "e0cbca97",
   "metadata": {},
   "outputs": [],
   "source": [
    "# берем данные для тренировки matching модели (модель, выдающая список рекомендаций)\n",
    "data_train_matcher = df_train[df_train['week_no'] < df_train['week_no'].max() - 6]\n",
    "\n",
    "# берем данные для валидации matching модели\n",
    "data_val_matcher = df_train[df_train['week_no'] >= df_train['week_no'].max() - 6]\n",
    "\n",
    "\n",
    "# берем данные для тренировки ranking модели (модель, ранжирующая выдачу предыдущей модели)\n",
    "data_train_ranker = data_val_matcher.copy()\n",
    "# берем данные для теста ranking, matching модели\n",
    "data_val_ranker = df_test"
   ]
  },
  {
   "cell_type": "code",
   "execution_count": 18,
   "id": "053c8d8f",
   "metadata": {},
   "outputs": [
    {
     "name": "stdout",
     "output_type": "stream",
     "text": [
      "Decreased # items from 85334 to 3551\n"
     ]
    }
   ],
   "source": [
    "# prefilter\n",
    "n_items_before = data_train_matcher['item_id'].nunique()\n",
    "\n",
    "data_train_matcher = prefilter_items(data_train_matcher, \n",
    "                                     item_features=df_prod, \n",
    "                                     take_n_popular=3550)\n",
    "\n",
    "n_items_after = data_train_matcher['item_id'].nunique()\n",
    "print('Decreased # items from {} to {}'.format(n_items_before, n_items_after))"
   ]
  },
  {
   "cell_type": "code",
   "execution_count": 19,
   "id": "06f1da8e",
   "metadata": {},
   "outputs": [
    {
     "name": "stdout",
     "output_type": "stream",
     "text": [
      "train_matcher\n",
      "============================================================\n",
      "Shape: (896610, 13)\tUsers: 2496\tItems: 3551\n",
      "\n",
      "val_matcher\n",
      "============================================================\n",
      "Shape: (203235, 12)\tUsers: 2194\tItems: 30037\n",
      "\n",
      "train_ranker\n",
      "============================================================\n",
      "Shape: (203235, 12)\tUsers: 2194\tItems: 30037\n",
      "\n",
      "val_ranker\n",
      "============================================================\n",
      "Shape: (88665, 12)\tUsers: 1883\tItems: 20492\n",
      "\n"
     ]
    }
   ],
   "source": [
    "common_users = data_train_matcher['user_id'].values\n",
    "\n",
    "data_val_matcher = data_val_matcher[data_val_matcher['user_id'].isin(common_users)]\n",
    "data_train_ranker = data_train_ranker[data_train_ranker['user_id'].isin(common_users)]\n",
    "data_val_ranker = data_val_ranker[data_val_ranker['user_id'].isin(common_users)]\n",
    "\n",
    "print_stats_data(data_train_matcher,'train_matcher')\n",
    "print_stats_data(data_val_matcher,'val_matcher')\n",
    "print_stats_data(data_train_ranker,'train_ranker')\n",
    "print_stats_data(data_val_ranker,'val_ranker')"
   ]
  },
  {
   "cell_type": "markdown",
   "id": "e8ba4ffe",
   "metadata": {},
   "source": [
    "### Recommender part"
   ]
  },
  {
   "cell_type": "code",
   "execution_count": 20,
   "id": "040e80bd",
   "metadata": {},
   "outputs": [
    {
     "data": {
      "application/vnd.jupyter.widget-view+json": {
       "model_id": "beb639716436453aabcbd771d4e0159a",
       "version_major": 2,
       "version_minor": 0
      },
      "text/plain": [
       "  0%|          | 0/15 [00:00<?, ?it/s]"
      ]
     },
     "metadata": {},
     "output_type": "display_data"
    },
    {
     "data": {
      "application/vnd.jupyter.widget-view+json": {
       "model_id": "f82b9f28e2e34f9996e7fbe98e51d546",
       "version_major": 2,
       "version_minor": 0
      },
      "text/plain": [
       "  0%|          | 0/3551 [00:00<?, ?it/s]"
      ]
     },
     "metadata": {},
     "output_type": "display_data"
    },
    {
     "data": {
      "application/vnd.jupyter.widget-view+json": {
       "model_id": "fc2ac1c9cf0e497eae4644bb73f216ae",
       "version_major": 2,
       "version_minor": 0
      },
      "text/plain": [
       "  0%|          | 0/3551 [00:00<?, ?it/s]"
      ]
     },
     "metadata": {},
     "output_type": "display_data"
    },
    {
     "name": "stdout",
     "output_type": "stream",
     "text": [
      "CPU times: user 5.15 s, sys: 187 ms, total: 5.34 s\n",
      "Wall time: 2.99 s\n"
     ]
    }
   ],
   "source": [
    "%%time\n",
    "recommender = MainRecommender(data_train_matcher, weighting='bm25')"
   ]
  },
  {
   "cell_type": "code",
   "execution_count": 21,
   "id": "48779b1b",
   "metadata": {},
   "outputs": [
    {
     "name": "stdout",
     "output_type": "stream",
     "text": [
      "CPU times: user 9.33 s, sys: 105 ms, total: 9.43 s\n",
      "Wall time: 8.4 s\n"
     ]
    }
   ],
   "source": [
    "%%time\n",
    "# создаем датафрейм со всеми уникальными юзерами из тренировочного\n",
    "df_match_candidates = pd.DataFrame(data_train_ranker[USER_COL].unique(), columns=[USER_COL])\n",
    "# для каждого делаем предсказания get_own_recommendation (ItemItem)\n",
    "df_match_candidates['candidates'] = df_match_candidates[USER_COL].apply(lambda x: \n",
    "                                                                        recommender.get_own_recommendations(x, \n",
    "                                                                                                            N=N_PREDICT))"
   ]
  },
  {
   "cell_type": "code",
   "execution_count": 22,
   "id": "034dc523",
   "metadata": {},
   "outputs": [],
   "source": [
    "# разворачиваем все это в датафрейм, где в одной строке один юзер и один итем\n",
    "df_items = df_match_candidates.apply(lambda x: pd.Series(x['candidates']), \n",
    "                                     axis=1).stack().reset_index(level=1, drop=True)\n",
    "df_items.name = 'item_id'\n",
    "df_match_candidates = df_match_candidates.drop('candidates', axis=1).join(df_items)"
   ]
  },
  {
   "cell_type": "code",
   "execution_count": 23,
   "id": "12e9af77",
   "metadata": {},
   "outputs": [],
   "source": [
    "# создадим датафрейм из тренировочного, и так как товары здесь были реально куплены проставим\n",
    "# в таргете 1\n",
    "df_ranker_train = data_train_ranker[[USER_COL, ITEM_COL]].copy()\n",
    "df_ranker_train['target'] = 1"
   ]
  },
  {
   "cell_type": "code",
   "execution_count": 24,
   "id": "0e4ab9d9",
   "metadata": {},
   "outputs": [],
   "source": [
    "# для нулей мерджим с нашим подготовленным датасетом предсказанных кандидатов\n",
    "df_ranker_train = df_match_candidates.merge(df_ranker_train, on=[USER_COL, ITEM_COL], how='left')\n",
    "\n",
    "# чистим дубликаты\n",
    "df_ranker_train = df_ranker_train.drop_duplicates(subset=[USER_COL, ITEM_COL])\n",
    "\n",
    "# заполняем nan нулями\n",
    "df_ranker_train['target'].fillna(0, inplace= True)"
   ]
  },
  {
   "cell_type": "code",
   "execution_count": 25,
   "id": "a21bc534",
   "metadata": {},
   "outputs": [
    {
     "data": {
      "text/plain": [
       "0.00   0.97\n",
       "1.00   0.03\n",
       "Name: target, dtype: float64"
      ]
     },
     "execution_count": 25,
     "metadata": {},
     "output_type": "execute_result"
    }
   ],
   "source": [
    "df_ranker_train['target'].value_counts(normalize=True)"
   ]
  },
  {
   "cell_type": "markdown",
   "id": "7083abb0",
   "metadata": {},
   "source": [
    "### Feature engineering"
   ]
  },
  {
   "cell_type": "code",
   "execution_count": 26,
   "id": "efd929d7",
   "metadata": {},
   "outputs": [],
   "source": [
    "# намерджим к нашему датасету фичей из item features датасета\n",
    "df_ranker_train = df_ranker_train.merge(df_prod, on='item_id', how='left')"
   ]
  },
  {
   "cell_type": "code",
   "execution_count": 27,
   "id": "df0ee84f",
   "metadata": {},
   "outputs": [
    {
     "data": {
      "text/html": [
       "<div>\n",
       "<style scoped>\n",
       "    .dataframe tbody tr th:only-of-type {\n",
       "        vertical-align: middle;\n",
       "    }\n",
       "\n",
       "    .dataframe tbody tr th {\n",
       "        vertical-align: top;\n",
       "    }\n",
       "\n",
       "    .dataframe thead th {\n",
       "        text-align: right;\n",
       "    }\n",
       "</style>\n",
       "<table border=\"1\" class=\"dataframe\">\n",
       "  <thead>\n",
       "    <tr style=\"text-align: right;\">\n",
       "      <th></th>\n",
       "      <th>user_id</th>\n",
       "      <th>item_id</th>\n",
       "      <th>target</th>\n",
       "      <th>manufacturer</th>\n",
       "      <th>department</th>\n",
       "      <th>brand</th>\n",
       "      <th>commodity_desc</th>\n",
       "      <th>sub_commodity_desc</th>\n",
       "      <th>curr_size_of_product</th>\n",
       "    </tr>\n",
       "  </thead>\n",
       "  <tbody>\n",
       "    <tr>\n",
       "      <th>0</th>\n",
       "      <td>84</td>\n",
       "      <td>903529</td>\n",
       "      <td>1.00</td>\n",
       "      <td>539</td>\n",
       "      <td>DRUG GM</td>\n",
       "      <td>National</td>\n",
       "      <td>CIGARETTES</td>\n",
       "      <td>CIGARETTES</td>\n",
       "      <td>972976  PK</td>\n",
       "    </tr>\n",
       "    <tr>\n",
       "      <th>1</th>\n",
       "      <td>84</td>\n",
       "      <td>920025</td>\n",
       "      <td>1.00</td>\n",
       "      <td>764</td>\n",
       "      <td>GROCERY</td>\n",
       "      <td>National</td>\n",
       "      <td>LAUNDRY ADDITIVES</td>\n",
       "      <td>FABRIC SOFTENER LIQUID</td>\n",
       "      <td>60 LOAD</td>\n",
       "    </tr>\n",
       "    <tr>\n",
       "      <th>2</th>\n",
       "      <td>84</td>\n",
       "      <td>829722</td>\n",
       "      <td>0.00</td>\n",
       "      <td>70</td>\n",
       "      <td>GROCERY</td>\n",
       "      <td>National</td>\n",
       "      <td>LAUNDRY DETERGENTS</td>\n",
       "      <td>LIQUID LAUNDRY DETERGENTS</td>\n",
       "      <td>32 LOAD</td>\n",
       "    </tr>\n",
       "    <tr>\n",
       "      <th>3</th>\n",
       "      <td>84</td>\n",
       "      <td>987518</td>\n",
       "      <td>0.00</td>\n",
       "      <td>415</td>\n",
       "      <td>GROCERY</td>\n",
       "      <td>National</td>\n",
       "      <td>LAUNDRY DETERGENTS</td>\n",
       "      <td>LIQUID LAUNDRY DETERGENTS</td>\n",
       "      <td>100 OZ</td>\n",
       "    </tr>\n",
       "    <tr>\n",
       "      <th>4</th>\n",
       "      <td>84</td>\n",
       "      <td>901061</td>\n",
       "      <td>0.00</td>\n",
       "      <td>608</td>\n",
       "      <td>GROCERY</td>\n",
       "      <td>National</td>\n",
       "      <td>FRZN MEAT/MEAT DINNERS</td>\n",
       "      <td>FRZN BREADED PREPARED CHICK</td>\n",
       "      <td>28.8 OZ</td>\n",
       "    </tr>\n",
       "  </tbody>\n",
       "</table>\n",
       "</div>"
      ],
      "text/plain": [
       "   user_id  item_id  target  manufacturer department     brand  \\\n",
       "0       84   903529    1.00           539    DRUG GM  National   \n",
       "1       84   920025    1.00           764    GROCERY  National   \n",
       "2       84   829722    0.00            70    GROCERY  National   \n",
       "3       84   987518    0.00           415    GROCERY  National   \n",
       "4       84   901061    0.00           608    GROCERY  National   \n",
       "\n",
       "           commodity_desc           sub_commodity_desc curr_size_of_product  \n",
       "0              CIGARETTES                   CIGARETTES           972976  PK  \n",
       "1       LAUNDRY ADDITIVES       FABRIC SOFTENER LIQUID              60 LOAD  \n",
       "2      LAUNDRY DETERGENTS    LIQUID LAUNDRY DETERGENTS              32 LOAD  \n",
       "3      LAUNDRY DETERGENTS    LIQUID LAUNDRY DETERGENTS               100 OZ  \n",
       "4  FRZN MEAT/MEAT DINNERS  FRZN BREADED PREPARED CHICK              28.8 OZ  "
      ]
     },
     "execution_count": 27,
     "metadata": {},
     "output_type": "execute_result"
    }
   ],
   "source": [
    "df_ranker_train.head()"
   ]
  },
  {
   "cell_type": "markdown",
   "id": "0f436794",
   "metadata": {},
   "source": [
    "___"
   ]
  },
  {
   "cell_type": "code",
   "execution_count": 28,
   "id": "4cd0cb4f",
   "metadata": {},
   "outputs": [
    {
     "name": "stdout",
     "output_type": "stream",
     "text": [
      "CPU times: user 2min 56s, sys: 5.22 s, total: 3min 2s\n",
      "Wall time: 3min 2s\n"
     ]
    }
   ],
   "source": [
    "%%time\n",
    "# Для создания фичей смерджим датафрейм с покупками и с данными по товарам\n",
    "data_item_df = pd.merge(df_train, df_prod, on='item_id', how='left')\n",
    "\n",
    "# data_item_df = data_item_df[data_item_df['user_id'].isin(common_users)]\n",
    "\n",
    "# средний чек каждого юзера по корзинам\n",
    "data_item_df = data_item_df.merge(data_item_df.groupby(by=['user_id', 'basket_id']).agg('sales_value').mean().reset_index().groupby(['user_id'])['sales_value'].mean().rename('mean_basket'), how='left',on=USER_COL)\n",
    "\n",
    "# средний чек юзера по каждой из категорий\n",
    "data_item_df = data_item_df.merge(data_item_df.groupby(by=['user_id', 'commodity_desc']).agg('sales_value').mean().rename('mean_commodity'), how='left',on=['user_id', 'commodity_desc'])\n",
    "\n",
    "# количество покупок на каждую категорию\n",
    "data_item_df = data_item_df.merge(data_item_df.groupby(by=['user_id', 'commodity_desc']).agg('quantity').count().rename('quantity_commodity'), how='left',on=['user_id', 'commodity_desc'])\n",
    "\n",
    "# Частотность покупок раз/месяц\n",
    "# для начала разобьем наши дни на месяцы (несколько приблизительно, по 30 дней)\n",
    "data_item_df['month'] = data_item_df['day'] // 30\n",
    "\n",
    "data_item_df = data_item_df.merge(data_item_df.groupby(by=['user_id', 'month']).agg('quantity').count().rename('month_quantity'), how='left',on=['user_id', 'month'])\n",
    "\n",
    "# Доля покупок в выходные\n",
    "# создадим функцию определения субботы/воскресенья в зависимости от дня/недели\n",
    "weekends = lambda day, week: (day == week * 7 - 2) or (day == week * 7 - 3)\n",
    "\n",
    "data_item_df['weekend_buy'] = data_item_df.apply(lambda x: weekends(x['day'], x['week_no']) * 1, \n",
    "                                                 axis=1)\n",
    "\n",
    "# Долю покупок утром/днем/вечером\n",
    "data_item_df['day_time'] = data_item_df.apply(lambda x: day_time(x['trans_time']), axis=1)\n",
    "\n",
    "# среднее количество покупок товара в неделю\n",
    "data_item_df = data_item_df.merge(data_item_df.groupby(by=['item_id', 'week_no']).agg('quantity').count().reset_index().groupby('item_id')['quantity'].mean().rename('item_week_quantity'), how='left',on=ITEM_COL)\n",
    "\n",
    "# Среднее кол-во покупок 1 товара в категории в неделю\n",
    "data_item_df = data_item_df.merge(data_item_df.groupby(by=['item_id', 'commodity_desc', 'week_no']).agg('quantity').mean().reset_index().groupby(['item_id', 'commodity_desc'])['quantity'].mean().rename('item_commodity_quantity'), how='left',on=['item_id', 'commodity_desc'])\n",
    "\n",
    "\n",
    "# (Кол-во покупок в неделю) / (Среднее кол-во покупок 1 товара в категории в неделю)\n",
    "data_item_df['week-commodity'] = data_item_df['item_week_quantity'] / data_item_df['item_commodity_quantity']\n",
    "# цена\n",
    "data_item_df['price'] = data_item_df.apply(lambda x: x['sales_value'] / x['quantity'] if x['quantity'] != 0 else 0, axis=1)\n",
    "data_item_df = data_item_df.merge(data_item_df.groupby(by=['user_id', 'commodity_desc', 'week_no']).agg('quantity').count().rename('user_com_week'), how='left',on=['user_id', 'commodity_desc', 'week_no'])\n",
    "data_item_df = data_item_df.merge(data_item_df.groupby(by=['commodity_desc', 'week_no']).agg('quantity').count().rename('item_com_week'), how='left',on=['commodity_desc', 'week_no'])\n",
    "# (Кол-во покупок юзером конкретной категории в неделю) - \n",
    "# (Среднее кол-во покупок всеми юзерами конкретной категории в неделю)\n",
    "data_item_df['user_item_diff'] = data_item_df['user_com_week'] - data_item_df['item_com_week']\n",
    "# (Кол-во покупок юзером конкретной категории в неделю) / \n",
    "# (Среднее кол-во покупок всеми юзерами конкретной категории в неделю)\n",
    "data_item_df['user_item_diff'] = data_item_df['user_com_week'] / data_item_df['item_com_week']\n",
    "\n",
    "item_freq = data_item_df['item_id'].value_counts()\n",
    "\n",
    "data_item_df['item_fq_log'] = data_item_df.apply(lambda x: np.log(item_freq[x['item_id']] / data_item_df.shape[0] + 1e-2), axis=1)\n",
    "data_item_df['item_fq_log_denom'] = data_item_df.apply(lambda x: item_freq[x['item_id']] / (1 + np.log(data_item_df.shape[0])), axis=1)"
   ]
  },
  {
   "cell_type": "code",
   "execution_count": 29,
   "id": "0b92a670",
   "metadata": {},
   "outputs": [
    {
     "name": "stdout",
     "output_type": "stream",
     "text": [
      "CPU times: user 8.03 s, sys: 944 ms, total: 8.97 s\n",
      "Wall time: 9 s\n"
     ]
    }
   ],
   "source": [
    "%%time\n",
    "# своровано с урока. Много буста метрики не дает, но чем богаты\n",
    "data_item_df = data_item_df.merge(data_item_df.groupby(by=ITEM_COL).agg('sales_value').sum().rename('total_item_sales_value'), how='left',on=ITEM_COL)\n",
    "data_item_df = data_item_df.merge(data_item_df.groupby(by=ITEM_COL).agg('quantity').sum().rename('total_quantity_value'), how='left',on=ITEM_COL)\n",
    "data_item_df = data_item_df.merge(data_item_df.groupby(by=ITEM_COL).agg(USER_COL).count().rename('item_freq'), how='left',on=ITEM_COL)\n",
    "data_item_df = data_item_df.merge(data_item_df.groupby(by=USER_COL).agg(USER_COL).count().rename('user_freq'), how='left',on=USER_COL)\n",
    "data_item_df = data_item_df.merge(data_item_df.groupby(by=USER_COL).agg('sales_value').sum().rename('total_user_sales_value'), how='left',on=USER_COL)\n",
    "data_item_df = data_item_df.merge(data_item_df.groupby(by=ITEM_COL).agg('quantity').sum().rename('item_quantity_per_week')/data_item_df.week_no.nunique(), how='left',on=ITEM_COL)\n",
    "data_item_df = data_item_df.merge(data_item_df.groupby(by=USER_COL).agg('quantity').sum().rename('user_quantity_per_week')/data_item_df.week_no.nunique(), how='left',on=USER_COL)\n",
    "data_item_df = data_item_df.merge(data_item_df.groupby(by=ITEM_COL).agg('quantity').sum().rename('item_quantity_per_basket')/data_item_df.basket_id.nunique(), how='left',on=ITEM_COL)\n",
    "data_item_df = data_item_df.merge(data_item_df.groupby(by=USER_COL).agg('quantity').sum().rename('user_quantity_per_baskter')/data_item_df.basket_id.nunique(), how='left',on=USER_COL)\n",
    "data_item_df = data_item_df.merge(data_item_df.groupby(by=ITEM_COL).agg(USER_COL).count().rename('item_freq_per_basket')/data_item_df.basket_id.nunique(), how='left',on=ITEM_COL)\n",
    "data_item_df = data_item_df.merge(data_item_df.groupby(by=USER_COL).agg(USER_COL).count().rename('user_freq_per_basket')/data_item_df.basket_id.nunique(), how='left',on=USER_COL)\n"
   ]
  },
  {
   "cell_type": "code",
   "execution_count": 30,
   "id": "1f5c8a37",
   "metadata": {},
   "outputs": [
    {
     "data": {
      "text/html": [
       "<div>\n",
       "<style scoped>\n",
       "    .dataframe tbody tr th:only-of-type {\n",
       "        vertical-align: middle;\n",
       "    }\n",
       "\n",
       "    .dataframe tbody tr th {\n",
       "        vertical-align: top;\n",
       "    }\n",
       "\n",
       "    .dataframe thead th {\n",
       "        text-align: right;\n",
       "    }\n",
       "</style>\n",
       "<table border=\"1\" class=\"dataframe\">\n",
       "  <thead>\n",
       "    <tr style=\"text-align: right;\">\n",
       "      <th></th>\n",
       "      <th>user_id</th>\n",
       "      <th>basket_id</th>\n",
       "      <th>day</th>\n",
       "      <th>item_id</th>\n",
       "      <th>quantity</th>\n",
       "      <th>sales_value</th>\n",
       "      <th>store_id</th>\n",
       "      <th>retail_disc</th>\n",
       "      <th>trans_time</th>\n",
       "      <th>week_no</th>\n",
       "      <th>coupon_disc</th>\n",
       "      <th>coupon_match_disc</th>\n",
       "      <th>manufacturer</th>\n",
       "      <th>department</th>\n",
       "      <th>brand</th>\n",
       "      <th>commodity_desc</th>\n",
       "      <th>sub_commodity_desc</th>\n",
       "      <th>curr_size_of_product</th>\n",
       "      <th>mean_basket</th>\n",
       "      <th>mean_commodity</th>\n",
       "      <th>quantity_commodity</th>\n",
       "      <th>month</th>\n",
       "      <th>month_quantity</th>\n",
       "      <th>weekend_buy</th>\n",
       "      <th>day_time</th>\n",
       "      <th>item_week_quantity</th>\n",
       "      <th>item_commodity_quantity</th>\n",
       "      <th>week-commodity</th>\n",
       "      <th>price</th>\n",
       "      <th>user_com_week</th>\n",
       "      <th>item_com_week</th>\n",
       "      <th>user_item_diff</th>\n",
       "      <th>item_fq_log</th>\n",
       "      <th>item_fq_log_denom</th>\n",
       "      <th>total_item_sales_value</th>\n",
       "      <th>total_quantity_value</th>\n",
       "      <th>item_freq</th>\n",
       "      <th>user_freq</th>\n",
       "      <th>total_user_sales_value</th>\n",
       "      <th>item_quantity_per_week</th>\n",
       "      <th>user_quantity_per_week</th>\n",
       "      <th>item_quantity_per_basket</th>\n",
       "      <th>user_quantity_per_baskter</th>\n",
       "      <th>item_freq_per_basket</th>\n",
       "      <th>user_freq_per_basket</th>\n",
       "    </tr>\n",
       "  </thead>\n",
       "  <tbody>\n",
       "    <tr>\n",
       "      <th>0</th>\n",
       "      <td>2375</td>\n",
       "      <td>26984851472</td>\n",
       "      <td>1</td>\n",
       "      <td>1004906</td>\n",
       "      <td>1</td>\n",
       "      <td>1.39</td>\n",
       "      <td>364</td>\n",
       "      <td>-0.60</td>\n",
       "      <td>1631</td>\n",
       "      <td>1</td>\n",
       "      <td>0.00</td>\n",
       "      <td>0.00</td>\n",
       "      <td>69</td>\n",
       "      <td>PRODUCE</td>\n",
       "      <td>Private</td>\n",
       "      <td>POTATOES</td>\n",
       "      <td>POTATOES RUSSET (BULK&amp;BAG)</td>\n",
       "      <td>5 LB</td>\n",
       "      <td>3.87</td>\n",
       "      <td>7.58</td>\n",
       "      <td>14</td>\n",
       "      <td>0</td>\n",
       "      <td>42</td>\n",
       "      <td>0</td>\n",
       "      <td>day</td>\n",
       "      <td>39.75</td>\n",
       "      <td>1.06</td>\n",
       "      <td>37.61</td>\n",
       "      <td>1.39</td>\n",
       "      <td>1</td>\n",
       "      <td>9</td>\n",
       "      <td>0.11</td>\n",
       "      <td>-4.47</td>\n",
       "      <td>212.82</td>\n",
       "      <td>8,765.53</td>\n",
       "      <td>3675</td>\n",
       "      <td>3339</td>\n",
       "      <td>657</td>\n",
       "      <td>2,486.42</td>\n",
       "      <td>38.68</td>\n",
       "      <td>10.55</td>\n",
       "      <td>0.01</td>\n",
       "      <td>0.00</td>\n",
       "      <td>0.01</td>\n",
       "      <td>0.00</td>\n",
       "    </tr>\n",
       "    <tr>\n",
       "      <th>1</th>\n",
       "      <td>2375</td>\n",
       "      <td>26984851472</td>\n",
       "      <td>1</td>\n",
       "      <td>1033142</td>\n",
       "      <td>1</td>\n",
       "      <td>0.82</td>\n",
       "      <td>364</td>\n",
       "      <td>0.00</td>\n",
       "      <td>1631</td>\n",
       "      <td>1</td>\n",
       "      <td>0.00</td>\n",
       "      <td>0.00</td>\n",
       "      <td>2</td>\n",
       "      <td>PRODUCE</td>\n",
       "      <td>National</td>\n",
       "      <td>ONIONS</td>\n",
       "      <td>ONIONS SWEET (BULK&amp;BAG)</td>\n",
       "      <td>40 LB</td>\n",
       "      <td>3.87</td>\n",
       "      <td>2.08</td>\n",
       "      <td>13</td>\n",
       "      <td>0</td>\n",
       "      <td>42</td>\n",
       "      <td>0</td>\n",
       "      <td>day</td>\n",
       "      <td>25.63</td>\n",
       "      <td>1.00</td>\n",
       "      <td>25.56</td>\n",
       "      <td>0.82</td>\n",
       "      <td>1</td>\n",
       "      <td>14</td>\n",
       "      <td>0.07</td>\n",
       "      <td>-4.51</td>\n",
       "      <td>150.29</td>\n",
       "      <td>2,242.71</td>\n",
       "      <td>2371</td>\n",
       "      <td>2358</td>\n",
       "      <td>657</td>\n",
       "      <td>2,486.42</td>\n",
       "      <td>24.96</td>\n",
       "      <td>10.55</td>\n",
       "      <td>0.01</td>\n",
       "      <td>0.00</td>\n",
       "      <td>0.01</td>\n",
       "      <td>0.00</td>\n",
       "    </tr>\n",
       "  </tbody>\n",
       "</table>\n",
       "</div>"
      ],
      "text/plain": [
       "   user_id    basket_id  day  item_id  quantity  sales_value  store_id  \\\n",
       "0     2375  26984851472    1  1004906         1         1.39       364   \n",
       "1     2375  26984851472    1  1033142         1         0.82       364   \n",
       "\n",
       "   retail_disc  trans_time  week_no  coupon_disc  coupon_match_disc  \\\n",
       "0        -0.60        1631        1         0.00               0.00   \n",
       "1         0.00        1631        1         0.00               0.00   \n",
       "\n",
       "   manufacturer department     brand commodity_desc  \\\n",
       "0            69    PRODUCE   Private       POTATOES   \n",
       "1             2    PRODUCE  National         ONIONS   \n",
       "\n",
       "           sub_commodity_desc curr_size_of_product  mean_basket  \\\n",
       "0  POTATOES RUSSET (BULK&BAG)                 5 LB         3.87   \n",
       "1     ONIONS SWEET (BULK&BAG)                40 LB         3.87   \n",
       "\n",
       "   mean_commodity  quantity_commodity  month  month_quantity  weekend_buy  \\\n",
       "0            7.58                  14      0              42            0   \n",
       "1            2.08                  13      0              42            0   \n",
       "\n",
       "  day_time  item_week_quantity  item_commodity_quantity  week-commodity  \\\n",
       "0      day               39.75                     1.06           37.61   \n",
       "1      day               25.63                     1.00           25.56   \n",
       "\n",
       "   price  user_com_week  item_com_week  user_item_diff  item_fq_log  \\\n",
       "0   1.39              1              9            0.11        -4.47   \n",
       "1   0.82              1             14            0.07        -4.51   \n",
       "\n",
       "   item_fq_log_denom  total_item_sales_value  total_quantity_value  item_freq  \\\n",
       "0             212.82                8,765.53                  3675       3339   \n",
       "1             150.29                2,242.71                  2371       2358   \n",
       "\n",
       "   user_freq  total_user_sales_value  item_quantity_per_week  \\\n",
       "0        657                2,486.42                   38.68   \n",
       "1        657                2,486.42                   24.96   \n",
       "\n",
       "   user_quantity_per_week  item_quantity_per_basket  \\\n",
       "0                   10.55                      0.01   \n",
       "1                   10.55                      0.01   \n",
       "\n",
       "   user_quantity_per_baskter  item_freq_per_basket  user_freq_per_basket  \n",
       "0                       0.00                  0.01                  0.00  \n",
       "1                       0.00                  0.01                  0.00  "
      ]
     },
     "execution_count": 30,
     "metadata": {},
     "output_type": "execute_result"
    }
   ],
   "source": [
    "data_item_df.head(2)"
   ]
  },
  {
   "cell_type": "markdown",
   "id": "6299ed72",
   "metadata": {},
   "source": [
    "___"
   ]
  },
  {
   "cell_type": "code",
   "execution_count": 31,
   "id": "3d58c17d",
   "metadata": {},
   "outputs": [],
   "source": [
    "feat_cols = [\n",
    "    'user_id',\n",
    "    'item_id',\n",
    "    'mean_basket',\n",
    "    'mean_commodity',\n",
    "    'quantity_commodity',\n",
    "    'month',\n",
    "    'month_quantity',\n",
    "    'weekend_buy',\n",
    "    'day_time',\n",
    "    'item_week_quantity',\n",
    "    'item_commodity_quantity',\n",
    "    'week-commodity',\n",
    "    'price',\n",
    "    'user_com_week',\n",
    "    'item_com_week',\n",
    "    'user_item_diff',\n",
    "    'item_fq_log',\n",
    "    'item_fq_log_denom',\n",
    "    'total_item_sales_value',\n",
    "    'total_quantity_value',\n",
    "    'item_freq',\n",
    "    'user_freq',\n",
    "    'total_user_sales_value',\n",
    "    'item_quantity_per_week',\n",
    "    'user_quantity_per_week',\n",
    "    'item_quantity_per_basket',\n",
    "    'user_quantity_per_baskter',\n",
    "    'item_freq_per_basket',\n",
    "    'user_freq_per_basket'\n",
    "]"
   ]
  },
  {
   "cell_type": "code",
   "execution_count": 32,
   "id": "a806502c",
   "metadata": {},
   "outputs": [],
   "source": [
    "cat_feats = [\n",
    "    'manufacturer',\n",
    "    'department',\n",
    "    'brand',\n",
    "    'commodity_desc',\n",
    "    'sub_commodity_desc',\n",
    "    'curr_size_of_product',\n",
    "    'weekend_buy',\n",
    "    'day_time',\n",
    "]"
   ]
  },
  {
   "cell_type": "markdown",
   "id": "bddecbf2",
   "metadata": {},
   "source": [
    "### Ранжирующая модель"
   ]
  },
  {
   "cell_type": "code",
   "execution_count": 33,
   "id": "786f21fd",
   "metadata": {},
   "outputs": [],
   "source": [
    "df_ranker_train = df_ranker_train.merge(data_item_df[feat_cols], on=['user_id', 'item_id'], how='left')"
   ]
  },
  {
   "cell_type": "code",
   "execution_count": 34,
   "id": "0e351e9d",
   "metadata": {},
   "outputs": [],
   "source": [
    "X_train = df_ranker_train.drop('target', axis=1)\n",
    "y_train = df_ranker_train[['target']]"
   ]
  },
  {
   "cell_type": "code",
   "execution_count": 35,
   "id": "5cc7cc1e",
   "metadata": {},
   "outputs": [],
   "source": [
    "# Переводим в категориальный формат\n",
    "X_train[cat_feats] = X_train[cat_feats].astype('category')"
   ]
  },
  {
   "cell_type": "code",
   "execution_count": 36,
   "id": "bc3591f3",
   "metadata": {},
   "outputs": [],
   "source": [
    "# нормируем вещественные столбцы\n",
    "scaler = StandardScaler()\n",
    "scale_feats = X_train.select_dtypes(include=['float64']).columns\n",
    "\n",
    "X_train[scale_feats] = scaler.fit_transform(X_train[scale_feats])"
   ]
  },
  {
   "cell_type": "code",
   "execution_count": 37,
   "id": "c5faa5b8",
   "metadata": {},
   "outputs": [],
   "source": [
    "# grid search буста не дал, поэтому используем вебинарный вариант\n",
    "lgb = LGBMClassifier(objective='binary',\n",
    "                     max_depth=8,\n",
    "                     n_estimators=300,\n",
    "                     learning_rate=0.05,\n",
    "                     categorical_column=cat_feats)\n",
    "\n",
    "lgb.fit(X_train, y_train)\n",
    "train_preds = lgb.predict_proba(X_train)"
   ]
  },
  {
   "cell_type": "code",
   "execution_count": 38,
   "id": "53eafa83",
   "metadata": {},
   "outputs": [],
   "source": [
    "df_ranker_predict = df_ranker_train.copy()\n",
    "df_ranker_predict['proba_item_purchase'] = train_preds[:,1]"
   ]
  },
  {
   "cell_type": "code",
   "execution_count": 39,
   "id": "d8b7f8be",
   "metadata": {},
   "outputs": [],
   "source": [
    "result_eval_ranker = data_val_ranker.groupby(USER_COL)[ITEM_COL].unique().reset_index()\n",
    "result_eval_ranker.columns=[USER_COL, ACTUAL_COL]"
   ]
  },
  {
   "cell_type": "code",
   "execution_count": 40,
   "id": "4fb4b1e0",
   "metadata": {},
   "outputs": [],
   "source": [
    "result_eval_ranker['feat_reranked_own_rec'] = result_eval_ranker[USER_COL].apply(lambda user_id: rerank(user_id))"
   ]
  },
  {
   "cell_type": "code",
   "execution_count": 41,
   "id": "7ee5e1e2",
   "metadata": {},
   "outputs": [
    {
     "name": "stdout",
     "output_type": "stream",
     "text": [
      "('feat_reranked_own_rec', 0.2086235489220534)\n"
     ]
    }
   ],
   "source": [
    "print(*sorted(calc_precision(result_eval_ranker, TOP_K_PRECISION), key=lambda x: x[1], reverse=True), sep='\\n')"
   ]
  },
  {
   "cell_type": "markdown",
   "id": "ce6905d7",
   "metadata": {},
   "source": [
    "### Итоговая метрика: 0.2086"
   ]
  }
 ],
 "metadata": {
  "kernelspec": {
   "display_name": "Python 3 (ipykernel)",
   "language": "python",
   "name": "python3"
  },
  "language_info": {
   "codemirror_mode": {
    "name": "ipython",
    "version": 3
   },
   "file_extension": ".py",
   "mimetype": "text/x-python",
   "name": "python",
   "nbconvert_exporter": "python",
   "pygments_lexer": "ipython3",
   "version": "3.8.10"
  },
  "varInspector": {
   "cols": {
    "lenName": 16,
    "lenType": 16,
    "lenVar": 40
   },
   "kernels_config": {
    "python": {
     "delete_cmd_postfix": "",
     "delete_cmd_prefix": "del ",
     "library": "var_list.py",
     "varRefreshCmd": "print(var_dic_list())"
    },
    "r": {
     "delete_cmd_postfix": ") ",
     "delete_cmd_prefix": "rm(",
     "library": "var_list.r",
     "varRefreshCmd": "cat(var_dic_list()) "
    }
   },
   "types_to_exclude": [
    "module",
    "function",
    "builtin_function_or_method",
    "instance",
    "_Feature"
   ],
   "window_display": false
  }
 },
 "nbformat": 4,
 "nbformat_minor": 5
}
